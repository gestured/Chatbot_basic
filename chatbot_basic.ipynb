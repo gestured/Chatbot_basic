{
 "cells": [
  {
   "cell_type": "markdown",
   "metadata": {},
   "source": [
    "# Question and Answer bot"
   ]
  },
  {
   "cell_type": "markdown",
   "metadata": {},
   "source": [
    "### A story and a question answer bot\n",
    "This chatbot takes a story and a question(yes/no) and answers according to the model prediction."
   ]
  },
  {
   "cell_type": "markdown",
   "metadata": {},
   "source": [
    "The vocab in the model is limited to the dataset provided so this notebook only predicts a yes or no to a question of a story formed using the vocab in the train and test dataset combined."
   ]
  },
  {
   "cell_type": "markdown",
   "metadata": {},
   "source": [
    " "
   ]
  },
  {
   "cell_type": "markdown",
   "metadata": {},
   "source": [
    " "
   ]
  },
  {
   "cell_type": "markdown",
   "metadata": {},
   "source": [
    "### Importing Libraries"
   ]
  },
  {
   "cell_type": "code",
   "execution_count": 1,
   "metadata": {},
   "outputs": [],
   "source": [
    "import pickle\n",
    "import numpy as np"
   ]
  },
  {
   "cell_type": "markdown",
   "metadata": {},
   "source": [
    "### Open and read the train and test data"
   ]
  },
  {
   "cell_type": "code",
   "execution_count": 2,
   "metadata": {},
   "outputs": [],
   "source": [
    "with open('train_qa.txt' , 'rb') as f:\n",
    "    train_data = pickle.load(f)"
   ]
  },
  {
   "cell_type": "code",
   "execution_count": 3,
   "metadata": {},
   "outputs": [],
   "source": [
    "with open('test_qa.txt' , 'rb') as f:\n",
    "    test_data = pickle.load(f)"
   ]
  },
  {
   "cell_type": "code",
   "execution_count": 4,
   "metadata": {},
   "outputs": [
    {
     "data": {
      "text/plain": [
       "list"
      ]
     },
     "execution_count": 4,
     "metadata": {},
     "output_type": "execute_result"
    }
   ],
   "source": [
    "type(train_data)"
   ]
  },
  {
   "cell_type": "code",
   "execution_count": 5,
   "metadata": {},
   "outputs": [
    {
     "data": {
      "text/plain": [
       "10000"
      ]
     },
     "execution_count": 5,
     "metadata": {},
     "output_type": "execute_result"
    }
   ],
   "source": [
    "len(train_data)"
   ]
  },
  {
   "cell_type": "code",
   "execution_count": 6,
   "metadata": {},
   "outputs": [
    {
     "data": {
      "text/plain": [
       "1000"
      ]
     },
     "execution_count": 6,
     "metadata": {},
     "output_type": "execute_result"
    }
   ],
   "source": [
    "len(test_data)"
   ]
  },
  {
   "cell_type": "code",
   "execution_count": 7,
   "metadata": {},
   "outputs": [
    {
     "data": {
      "text/plain": [
       "'Mary moved to the bathroom . Sandra journeyed to the bedroom .'"
      ]
     },
     "execution_count": 7,
     "metadata": {},
     "output_type": "execute_result"
    }
   ],
   "source": [
    "story = ' '.join(train_data[0][0])\n",
    "story"
   ]
  },
  {
   "cell_type": "markdown",
   "metadata": {},
   "source": [
    "### Setting train and test data together"
   ]
  },
  {
   "cell_type": "code",
   "execution_count": 8,
   "metadata": {},
   "outputs": [
    {
     "data": {
      "text/plain": [
       "11000"
      ]
     },
     "execution_count": 8,
     "metadata": {},
     "output_type": "execute_result"
    }
   ],
   "source": [
    "all_data = train_data + test_data\n",
    "len(all_data)"
   ]
  },
  {
   "cell_type": "markdown",
   "metadata": {},
   "source": [
    "### Setting up the vocab"
   ]
  },
  {
   "cell_type": "code",
   "execution_count": 9,
   "metadata": {},
   "outputs": [],
   "source": [
    "vocab = set()\n",
    "for story,question,answer in all_data:\n",
    "    vocab = vocab.union(set(story))\n",
    "    vocab = vocab.union(set(question))    "
   ]
  },
  {
   "cell_type": "code",
   "execution_count": 10,
   "metadata": {},
   "outputs": [],
   "source": [
    "vocab.add('no')\n",
    "vocab.add('yes')"
   ]
  },
  {
   "cell_type": "code",
   "execution_count": 11,
   "metadata": {},
   "outputs": [],
   "source": [
    "vocab_len = len(vocab)+1"
   ]
  },
  {
   "cell_type": "code",
   "execution_count": 12,
   "metadata": {},
   "outputs": [],
   "source": [
    "all_story_lens = [len(data[0]) for data in all_data]"
   ]
  },
  {
   "cell_type": "code",
   "execution_count": 13,
   "metadata": {},
   "outputs": [],
   "source": [
    "max_story_len = max(all_story_lens)"
   ]
  },
  {
   "cell_type": "code",
   "execution_count": 14,
   "metadata": {},
   "outputs": [],
   "source": [
    "max_question_len = max([len(data[1]) for data in all_data])"
   ]
  },
  {
   "cell_type": "markdown",
   "metadata": {},
   "source": [
    "### Vectorize the data and splitting into train_story , train_query , train_answer and simillarly to test data as well"
   ]
  },
  {
   "cell_type": "code",
   "execution_count": 15,
   "metadata": {},
   "outputs": [],
   "source": [
    "from keras.preprocessing.sequence import pad_sequences\n",
    "from keras.preprocessing.text import Tokenizer"
   ]
  },
  {
   "cell_type": "code",
   "execution_count": 16,
   "metadata": {},
   "outputs": [
    {
     "data": {
      "text/plain": [
       "{'in': 1,\n",
       " 'moved': 2,\n",
       " 'left': 3,\n",
       " 'no': 4,\n",
       " 'down': 5,\n",
       " 'daniel': 6,\n",
       " 'yes': 7,\n",
       " 'dropped': 8,\n",
       " 'discarded': 9,\n",
       " 'put': 10,\n",
       " 'back': 11,\n",
       " 'bedroom': 12,\n",
       " 'football': 13,\n",
       " 'there': 14,\n",
       " 'picked': 15,\n",
       " 'got': 16,\n",
       " 'office': 17,\n",
       " 'garden': 18,\n",
       " 'is': 19,\n",
       " 'mary': 20,\n",
       " 'the': 21,\n",
       " 'to': 22,\n",
       " 'took': 23,\n",
       " 'journeyed': 24,\n",
       " 'milk': 25,\n",
       " 'bathroom': 26,\n",
       " 'grabbed': 27,\n",
       " 'john': 28,\n",
       " 'travelled': 29,\n",
       " 'went': 30,\n",
       " 'kitchen': 31,\n",
       " '?': 32,\n",
       " 'apple': 33,\n",
       " 'up': 34,\n",
       " 'hallway': 35,\n",
       " 'sandra': 36,\n",
       " '.': 37}"
      ]
     },
     "execution_count": 16,
     "metadata": {},
     "output_type": "execute_result"
    }
   ],
   "source": [
    "tokenizer = Tokenizer(filters=[])\n",
    "tokenizer.fit_on_texts(vocab)\n",
    "tokenizer.word_index"
   ]
  },
  {
   "cell_type": "code",
   "execution_count": 20,
   "metadata": {},
   "outputs": [],
   "source": [
    "def vectorize_stories(data, word_index=tokenizer.word_index , max_story_len = max_story_len, max_question_len=max_question_len):\n",
    "    X = [] #Stories\n",
    "    Xq = [] #Question\n",
    "    Y = [] #Answer\n",
    "    \n",
    "    for story,query,answer in data:\n",
    "        x = [word_index[word.lower()] for word in story]\n",
    "        xq = [word_index[word.lower()] for word in query]\n",
    "        \n",
    "        y = np.zeros(len(word_index)+1)\n",
    "        \n",
    "        y[word_index[answer]] = 1\n",
    "        \n",
    "        X.append(x)\n",
    "        Xq.append(xq)\n",
    "        Y.append(y)\n",
    "        \n",
    "    return (pad_sequences(X , maxlen=max_story_len) , pad_sequences(Xq , maxlen=max_question_len) , np.array(Y))"
   ]
  },
  {
   "cell_type": "code",
   "execution_count": 21,
   "metadata": {},
   "outputs": [],
   "source": [
    "input_train , query_train , answer_train = vectorize_stories(train_data)"
   ]
  },
  {
   "cell_type": "code",
   "execution_count": 22,
   "metadata": {},
   "outputs": [],
   "source": [
    "input_test , query_test , answer_test = vectorize_stories(test_data)"
   ]
  },
  {
   "cell_type": "markdown",
   "metadata": {},
   "source": [
    "## Building Model"
   ]
  },
  {
   "cell_type": "code",
   "execution_count": 23,
   "metadata": {},
   "outputs": [],
   "source": [
    "from keras.models import Sequential , Model\n",
    "from keras.layers.embeddings import Embedding\n",
    "from keras.layers import Input , Activation , Dense , Permute , Dropout , add , dot , concatenate , LSTM"
   ]
  },
  {
   "cell_type": "markdown",
   "metadata": {},
   "source": [
    "#### Placeholders so to take two inputs story and question"
   ]
  },
  {
   "cell_type": "code",
   "execution_count": 24,
   "metadata": {},
   "outputs": [],
   "source": [
    "#instantiate keras tensor\n",
    "#Placeholder shape = (max_Story_len , batch_Size)\n",
    "input_sequence = Input((max_story_len,))\n",
    "question = Input((max_question_len,))"
   ]
  },
  {
   "cell_type": "code",
   "execution_count": 25,
   "metadata": {},
   "outputs": [],
   "source": [
    "vocab_size = len(vocab)+1"
   ]
  },
  {
   "cell_type": "markdown",
   "metadata": {},
   "source": [
    "## Encoders\n",
    "Reference : https://arxiv.org/pdf/1503.08895.pdf"
   ]
  },
  {
   "cell_type": "markdown",
   "metadata": {},
   "source": [
    "### Input encoder m"
   ]
  },
  {
   "cell_type": "code",
   "execution_count": 26,
   "metadata": {},
   "outputs": [],
   "source": [
    "#input encoder M\n",
    "\n",
    "input_encoder_m = Sequential()\n",
    "\n",
    "input_encoder_m.add(Embedding(input_dim = vocab_size , output_dim=64))\n",
    "\n",
    "input_encoder_m.add(Dropout(0.3))\n",
    "\n",
    "#output\n",
    "#(Sample , story_maxlen , embedding_dim)"
   ]
  },
  {
   "cell_type": "markdown",
   "metadata": {},
   "source": [
    "### Input encoder c"
   ]
  },
  {
   "cell_type": "code",
   "execution_count": 27,
   "metadata": {},
   "outputs": [],
   "source": [
    "#input encoder C\n",
    "\n",
    "input_encoder_c = Sequential()\n",
    "\n",
    "input_encoder_c.add(Embedding(input_dim = vocab_size , output_dim=max_question_len))\n",
    "\n",
    "input_encoder_c.add(Dropout(0.3))\n",
    "\n",
    "#output\n",
    "#(Sample , story_maxlen , max_ques_lem)"
   ]
  },
  {
   "cell_type": "markdown",
   "metadata": {},
   "source": [
    "### Question Encoder"
   ]
  },
  {
   "cell_type": "code",
   "execution_count": 28,
   "metadata": {},
   "outputs": [],
   "source": [
    "#Question encoder\n",
    "question_encoder = Sequential()\n",
    "\n",
    "question_encoder.add(Embedding(input_dim = vocab_size , output_dim = 64 , input_length=max_question_len))\n",
    "\n",
    "question_encoder.add(Dropout(0.3))\n",
    "\n",
    "#Output\n",
    "# (Samples , query max len , embedding_dim)"
   ]
  },
  {
   "cell_type": "markdown",
   "metadata": {},
   "source": [
    "### Encode the sequence"
   ]
  },
  {
   "cell_type": "code",
   "execution_count": 29,
   "metadata": {},
   "outputs": [],
   "source": [
    "#PAssing placeholder in encoder\n",
    "\n",
    "#Encoded <----- Encoder(input)\n",
    "\n",
    "input_encoded_m = input_encoder_m(input_sequence)\n",
    "\n",
    "input_encoded_c = input_encoder_c(input_sequence)\n",
    "\n",
    "question_encoded = question_encoder(question)"
   ]
  },
  {
   "cell_type": "markdown",
   "metadata": {},
   "source": [
    "### Use dot product to compute the match between first input vector seq and the query"
   ]
  },
  {
   "cell_type": "code",
   "execution_count": 30,
   "metadata": {},
   "outputs": [],
   "source": [
    "#Dot product\n",
    "\n",
    "match = dot([input_encoded_m , question_encoded] , axes=(2,2))\n",
    "\n",
    "match = Activation('softmax')(match)"
   ]
  },
  {
   "cell_type": "markdown",
   "metadata": {},
   "source": [
    "### Add this matrix to second input vector seq"
   ]
  },
  {
   "cell_type": "code",
   "execution_count": 31,
   "metadata": {},
   "outputs": [],
   "source": [
    "response = add([match , input_encoded_c])\n",
    "response = Permute((2,1))(response)"
   ]
  },
  {
   "cell_type": "markdown",
   "metadata": {},
   "source": [
    "### Concatenate"
   ]
  },
  {
   "cell_type": "code",
   "execution_count": 32,
   "metadata": {},
   "outputs": [],
   "source": [
    "answer = concatenate([response , question_encoded])"
   ]
  },
  {
   "cell_type": "code",
   "execution_count": 33,
   "metadata": {},
   "outputs": [
    {
     "data": {
      "text/plain": [
       "<tf.Tensor 'concatenate/concat:0' shape=(None, 6, 220) dtype=float32>"
      ]
     },
     "execution_count": 33,
     "metadata": {},
     "output_type": "execute_result"
    }
   ],
   "source": [
    "answer"
   ]
  },
  {
   "cell_type": "markdown",
   "metadata": {},
   "source": [
    "### Reduce with RNN"
   ]
  },
  {
   "cell_type": "code",
   "execution_count": 34,
   "metadata": {},
   "outputs": [],
   "source": [
    "answer = LSTM(32)(answer)"
   ]
  },
  {
   "cell_type": "code",
   "execution_count": 35,
   "metadata": {},
   "outputs": [],
   "source": [
    "answer = Dropout(0.5)(answer)\n",
    "answer = Dense(vocab_size)(answer)   # (samples , vocab_size) # yes/no"
   ]
  },
  {
   "cell_type": "code",
   "execution_count": 36,
   "metadata": {},
   "outputs": [],
   "source": [
    "answer = Activation('softmax')(answer)"
   ]
  },
  {
   "cell_type": "code",
   "execution_count": 37,
   "metadata": {},
   "outputs": [],
   "source": [
    "model = Model([input_sequence , question] , answer)"
   ]
  },
  {
   "cell_type": "code",
   "execution_count": 38,
   "metadata": {},
   "outputs": [],
   "source": [
    "model.compile(optimizer='rmsprop' , loss='categorical_crossentropy' , metrics=['accuracy'])"
   ]
  },
  {
   "cell_type": "code",
   "execution_count": 39,
   "metadata": {},
   "outputs": [
    {
     "name": "stdout",
     "output_type": "stream",
     "text": [
      "Model: \"functional_1\"\n",
      "__________________________________________________________________________________________________\n",
      "Layer (type)                    Output Shape         Param #     Connected to                     \n",
      "==================================================================================================\n",
      "input_1 (InputLayer)            [(None, 156)]        0                                            \n",
      "__________________________________________________________________________________________________\n",
      "input_2 (InputLayer)            [(None, 6)]          0                                            \n",
      "__________________________________________________________________________________________________\n",
      "sequential (Sequential)         (None, None, 64)     2432        input_1[0][0]                    \n",
      "__________________________________________________________________________________________________\n",
      "sequential_2 (Sequential)       (None, 6, 64)        2432        input_2[0][0]                    \n",
      "__________________________________________________________________________________________________\n",
      "dot (Dot)                       (None, 156, 6)       0           sequential[0][0]                 \n",
      "                                                                 sequential_2[0][0]               \n",
      "__________________________________________________________________________________________________\n",
      "activation (Activation)         (None, 156, 6)       0           dot[0][0]                        \n",
      "__________________________________________________________________________________________________\n",
      "sequential_1 (Sequential)       (None, None, 6)      228         input_1[0][0]                    \n",
      "__________________________________________________________________________________________________\n",
      "add (Add)                       (None, 156, 6)       0           activation[0][0]                 \n",
      "                                                                 sequential_1[0][0]               \n",
      "__________________________________________________________________________________________________\n",
      "permute (Permute)               (None, 6, 156)       0           add[0][0]                        \n",
      "__________________________________________________________________________________________________\n",
      "concatenate (Concatenate)       (None, 6, 220)       0           permute[0][0]                    \n",
      "                                                                 sequential_2[0][0]               \n",
      "__________________________________________________________________________________________________\n",
      "lstm (LSTM)                     (None, 32)           32384       concatenate[0][0]                \n",
      "__________________________________________________________________________________________________\n",
      "dropout_3 (Dropout)             (None, 32)           0           lstm[0][0]                       \n",
      "__________________________________________________________________________________________________\n",
      "dense (Dense)                   (None, 38)           1254        dropout_3[0][0]                  \n",
      "__________________________________________________________________________________________________\n",
      "activation_1 (Activation)       (None, 38)           0           dense[0][0]                      \n",
      "==================================================================================================\n",
      "Total params: 38,730\n",
      "Trainable params: 38,730\n",
      "Non-trainable params: 0\n",
      "__________________________________________________________________________________________________\n"
     ]
    }
   ],
   "source": [
    "model.summary()"
   ]
  },
  {
   "cell_type": "markdown",
   "metadata": {},
   "source": [
    "### Fit model"
   ]
  },
  {
   "cell_type": "code",
   "execution_count": 40,
   "metadata": {},
   "outputs": [
    {
     "name": "stdout",
     "output_type": "stream",
     "text": [
      "Epoch 1/100\n",
      "313/313 [==============================] - 3s 9ms/step - loss: 0.9528 - accuracy: 0.5009 - val_loss: 0.6983 - val_accuracy: 0.4970\n",
      "Epoch 2/100\n",
      "313/313 [==============================] - 3s 8ms/step - loss: 0.7046 - accuracy: 0.5069 - val_loss: 0.6944 - val_accuracy: 0.5030\n",
      "Epoch 3/100\n",
      "313/313 [==============================] - 3s 9ms/step - loss: 0.6964 - accuracy: 0.5041 - val_loss: 0.6938 - val_accuracy: 0.5030\n",
      "Epoch 4/100\n",
      "313/313 [==============================] - 3s 9ms/step - loss: 0.6945 - accuracy: 0.5071 - val_loss: 0.6936 - val_accuracy: 0.4970\n",
      "Epoch 5/100\n",
      "313/313 [==============================] - 3s 9ms/step - loss: 0.6949 - accuracy: 0.4979 - val_loss: 0.6932 - val_accuracy: 0.5000\n",
      "Epoch 6/100\n",
      "313/313 [==============================] - 3s 10ms/step - loss: 0.6946 - accuracy: 0.5054 - val_loss: 0.6955 - val_accuracy: 0.5030\n",
      "Epoch 7/100\n",
      "313/313 [==============================] - 3s 9ms/step - loss: 0.6946 - accuracy: 0.5023 - val_loss: 0.6974 - val_accuracy: 0.4970\n",
      "Epoch 8/100\n",
      "313/313 [==============================] - 3s 9ms/step - loss: 0.6945 - accuracy: 0.5043 - val_loss: 0.6933 - val_accuracy: 0.5030\n",
      "Epoch 9/100\n",
      "313/313 [==============================] - 3s 9ms/step - loss: 0.6942 - accuracy: 0.5068 - val_loss: 0.6940 - val_accuracy: 0.5030\n",
      "Epoch 10/100\n",
      "313/313 [==============================] - 3s 9ms/step - loss: 0.6942 - accuracy: 0.5103 - val_loss: 0.6934 - val_accuracy: 0.4930\n",
      "Epoch 11/100\n",
      "313/313 [==============================] - 3s 9ms/step - loss: 0.6941 - accuracy: 0.5007 - val_loss: 0.6937 - val_accuracy: 0.4760\n",
      "Epoch 12/100\n",
      "313/313 [==============================] - 3s 9ms/step - loss: 0.6927 - accuracy: 0.5154 - val_loss: 0.6927 - val_accuracy: 0.4870\n",
      "Epoch 13/100\n",
      "313/313 [==============================] - 3s 9ms/step - loss: 0.6825 - accuracy: 0.5504 - val_loss: 0.6511 - val_accuracy: 0.6160\n",
      "Epoch 14/100\n",
      "313/313 [==============================] - 3s 9ms/step - loss: 0.5680 - accuracy: 0.7269 - val_loss: 0.4848 - val_accuracy: 0.7630\n",
      "Epoch 15/100\n",
      "313/313 [==============================] - 3s 9ms/step - loss: 0.4645 - accuracy: 0.8047 - val_loss: 0.4442 - val_accuracy: 0.8210\n",
      "Epoch 16/100\n",
      "313/313 [==============================] - 3s 9ms/step - loss: 0.4233 - accuracy: 0.8286 - val_loss: 0.4042 - val_accuracy: 0.8200\n",
      "Epoch 17/100\n",
      "313/313 [==============================] - 3s 9ms/step - loss: 0.3979 - accuracy: 0.8360 - val_loss: 0.4001 - val_accuracy: 0.8290\n",
      "Epoch 18/100\n",
      "313/313 [==============================] - 3s 9ms/step - loss: 0.3765 - accuracy: 0.8455 - val_loss: 0.3977 - val_accuracy: 0.8400\n",
      "Epoch 19/100\n",
      "313/313 [==============================] - 3s 9ms/step - loss: 0.3649 - accuracy: 0.8498 - val_loss: 0.3906 - val_accuracy: 0.8470\n",
      "Epoch 20/100\n",
      "313/313 [==============================] - 3s 9ms/step - loss: 0.3532 - accuracy: 0.8524 - val_loss: 0.3750 - val_accuracy: 0.8370\n",
      "Epoch 21/100\n",
      "313/313 [==============================] - 3s 9ms/step - loss: 0.3501 - accuracy: 0.8537 - val_loss: 0.3637 - val_accuracy: 0.8480\n",
      "Epoch 22/100\n",
      "313/313 [==============================] - 3s 9ms/step - loss: 0.3422 - accuracy: 0.8559 - val_loss: 0.3648 - val_accuracy: 0.8420\n",
      "Epoch 23/100\n",
      "313/313 [==============================] - 3s 9ms/step - loss: 0.3370 - accuracy: 0.8604 - val_loss: 0.3501 - val_accuracy: 0.8450\n",
      "Epoch 24/100\n",
      "313/313 [==============================] - 3s 10ms/step - loss: 0.3294 - accuracy: 0.8606 - val_loss: 0.3541 - val_accuracy: 0.8400\n",
      "Epoch 25/100\n",
      "313/313 [==============================] - 3s 9ms/step - loss: 0.3256 - accuracy: 0.8625 - val_loss: 0.3507 - val_accuracy: 0.8380\n",
      "Epoch 26/100\n",
      "313/313 [==============================] - 3s 9ms/step - loss: 0.3218 - accuracy: 0.8620 - val_loss: 0.3729 - val_accuracy: 0.8220\n",
      "Epoch 27/100\n",
      "313/313 [==============================] - 3s 9ms/step - loss: 0.3194 - accuracy: 0.8629 - val_loss: 0.3464 - val_accuracy: 0.8330\n",
      "Epoch 28/100\n",
      "313/313 [==============================] - 3s 9ms/step - loss: 0.3192 - accuracy: 0.8609 - val_loss: 0.3668 - val_accuracy: 0.8400\n",
      "Epoch 29/100\n",
      "313/313 [==============================] - 3s 9ms/step - loss: 0.3154 - accuracy: 0.8617 - val_loss: 0.3546 - val_accuracy: 0.8420\n",
      "Epoch 30/100\n",
      "313/313 [==============================] - 3s 9ms/step - loss: 0.3126 - accuracy: 0.8658 - val_loss: 0.3490 - val_accuracy: 0.8320\n",
      "Epoch 31/100\n",
      "313/313 [==============================] - 3s 9ms/step - loss: 0.3082 - accuracy: 0.8638 - val_loss: 0.3433 - val_accuracy: 0.8430\n",
      "Epoch 32/100\n",
      "313/313 [==============================] - 3s 9ms/step - loss: 0.3056 - accuracy: 0.8652 - val_loss: 0.3507 - val_accuracy: 0.8400\n",
      "Epoch 33/100\n",
      "313/313 [==============================] - 3s 9ms/step - loss: 0.3101 - accuracy: 0.8628 - val_loss: 0.3650 - val_accuracy: 0.8420\n",
      "Epoch 34/100\n",
      "313/313 [==============================] - 3s 9ms/step - loss: 0.3028 - accuracy: 0.8684 - val_loss: 0.3437 - val_accuracy: 0.8360\n",
      "Epoch 35/100\n",
      "313/313 [==============================] - 3s 9ms/step - loss: 0.3051 - accuracy: 0.8668 - val_loss: 0.3494 - val_accuracy: 0.8240\n",
      "Epoch 36/100\n",
      "313/313 [==============================] - 3s 9ms/step - loss: 0.3021 - accuracy: 0.8659 - val_loss: 0.3522 - val_accuracy: 0.8390\n",
      "Epoch 37/100\n",
      "313/313 [==============================] - 3s 9ms/step - loss: 0.3018 - accuracy: 0.8688 - val_loss: 0.3486 - val_accuracy: 0.8390\n",
      "Epoch 38/100\n",
      "313/313 [==============================] - 3s 9ms/step - loss: 0.3001 - accuracy: 0.8692 - val_loss: 0.3484 - val_accuracy: 0.8350\n",
      "Epoch 39/100\n",
      "313/313 [==============================] - 3s 9ms/step - loss: 0.3003 - accuracy: 0.8683 - val_loss: 0.3501 - val_accuracy: 0.8320\n",
      "Epoch 40/100\n",
      "313/313 [==============================] - 3s 9ms/step - loss: 0.2960 - accuracy: 0.8671 - val_loss: 0.3405 - val_accuracy: 0.8380\n",
      "Epoch 41/100\n",
      "313/313 [==============================] - 3s 9ms/step - loss: 0.2972 - accuracy: 0.8671 - val_loss: 0.3500 - val_accuracy: 0.8360\n",
      "Epoch 42/100\n",
      "313/313 [==============================] - 3s 9ms/step - loss: 0.2950 - accuracy: 0.8704 - val_loss: 0.3454 - val_accuracy: 0.8390\n",
      "Epoch 43/100\n",
      "313/313 [==============================] - 3s 9ms/step - loss: 0.2944 - accuracy: 0.8705 - val_loss: 0.3567 - val_accuracy: 0.8330\n",
      "Epoch 44/100\n",
      "313/313 [==============================] - 3s 9ms/step - loss: 0.2928 - accuracy: 0.8723 - val_loss: 0.3685 - val_accuracy: 0.8360\n",
      "Epoch 45/100\n",
      "313/313 [==============================] - 3s 9ms/step - loss: 0.2918 - accuracy: 0.8699 - val_loss: 0.3538 - val_accuracy: 0.8350\n",
      "Epoch 46/100\n",
      "313/313 [==============================] - 3s 9ms/step - loss: 0.2898 - accuracy: 0.8711 - val_loss: 0.3531 - val_accuracy: 0.8390\n",
      "Epoch 47/100\n",
      "313/313 [==============================] - 3s 9ms/step - loss: 0.2893 - accuracy: 0.8703 - val_loss: 0.3698 - val_accuracy: 0.8320\n",
      "Epoch 48/100\n",
      "313/313 [==============================] - 3s 9ms/step - loss: 0.2872 - accuracy: 0.8730 - val_loss: 0.3602 - val_accuracy: 0.8270\n",
      "Epoch 49/100\n",
      "313/313 [==============================] - 3s 9ms/step - loss: 0.2901 - accuracy: 0.8706 - val_loss: 0.3538 - val_accuracy: 0.8330\n",
      "Epoch 50/100\n",
      "313/313 [==============================] - 3s 9ms/step - loss: 0.2875 - accuracy: 0.8721 - val_loss: 0.3457 - val_accuracy: 0.8370\n",
      "Epoch 51/100\n",
      "313/313 [==============================] - 3s 9ms/step - loss: 0.2896 - accuracy: 0.8695 - val_loss: 0.3608 - val_accuracy: 0.8430\n",
      "Epoch 52/100\n",
      "313/313 [==============================] - 3s 9ms/step - loss: 0.2847 - accuracy: 0.8732 - val_loss: 0.3764 - val_accuracy: 0.8340\n",
      "Epoch 53/100\n",
      "313/313 [==============================] - 3s 9ms/step - loss: 0.2855 - accuracy: 0.8737 - val_loss: 0.3571 - val_accuracy: 0.8330\n",
      "Epoch 54/100\n",
      "313/313 [==============================] - 3s 9ms/step - loss: 0.2843 - accuracy: 0.8760 - val_loss: 0.3557 - val_accuracy: 0.8380\n",
      "Epoch 55/100\n",
      "313/313 [==============================] - 3s 9ms/step - loss: 0.2829 - accuracy: 0.8737 - val_loss: 0.3866 - val_accuracy: 0.8300\n",
      "Epoch 56/100\n",
      "313/313 [==============================] - 3s 9ms/step - loss: 0.2835 - accuracy: 0.8745 - val_loss: 0.3535 - val_accuracy: 0.8380\n",
      "Epoch 57/100\n",
      "313/313 [==============================] - 3s 9ms/step - loss: 0.2837 - accuracy: 0.8773 - val_loss: 0.3633 - val_accuracy: 0.8370\n"
     ]
    },
    {
     "name": "stdout",
     "output_type": "stream",
     "text": [
      "Epoch 58/100\n",
      "313/313 [==============================] - 3s 9ms/step - loss: 0.2846 - accuracy: 0.8732 - val_loss: 0.3747 - val_accuracy: 0.8370\n",
      "Epoch 59/100\n",
      "313/313 [==============================] - 3s 9ms/step - loss: 0.2818 - accuracy: 0.8772 - val_loss: 0.3550 - val_accuracy: 0.8380\n",
      "Epoch 60/100\n",
      "313/313 [==============================] - 3s 9ms/step - loss: 0.2772 - accuracy: 0.8770 - val_loss: 0.3634 - val_accuracy: 0.8320\n",
      "Epoch 61/100\n",
      "313/313 [==============================] - 3s 9ms/step - loss: 0.2806 - accuracy: 0.8776 - val_loss: 0.3812 - val_accuracy: 0.8330\n",
      "Epoch 62/100\n",
      "313/313 [==============================] - 3s 9ms/step - loss: 0.2790 - accuracy: 0.8772 - val_loss: 0.3863 - val_accuracy: 0.8390\n",
      "Epoch 63/100\n",
      "313/313 [==============================] - 3s 9ms/step - loss: 0.2737 - accuracy: 0.8786 - val_loss: 0.3691 - val_accuracy: 0.8410\n",
      "Epoch 64/100\n",
      "313/313 [==============================] - 3s 9ms/step - loss: 0.2761 - accuracy: 0.8760 - val_loss: 0.3820 - val_accuracy: 0.8300\n",
      "Epoch 65/100\n",
      "313/313 [==============================] - 3s 9ms/step - loss: 0.2766 - accuracy: 0.8769 - val_loss: 0.3721 - val_accuracy: 0.8430\n",
      "Epoch 66/100\n",
      "313/313 [==============================] - 3s 9ms/step - loss: 0.2739 - accuracy: 0.8793 - val_loss: 0.3779 - val_accuracy: 0.8370\n",
      "Epoch 67/100\n",
      "313/313 [==============================] - 3s 9ms/step - loss: 0.2739 - accuracy: 0.8798 - val_loss: 0.3911 - val_accuracy: 0.8410\n",
      "Epoch 68/100\n",
      "313/313 [==============================] - 3s 9ms/step - loss: 0.2727 - accuracy: 0.8755 - val_loss: 0.3702 - val_accuracy: 0.8340\n",
      "Epoch 69/100\n",
      "313/313 [==============================] - 3s 9ms/step - loss: 0.2681 - accuracy: 0.8844 - val_loss: 0.3719 - val_accuracy: 0.8300\n",
      "Epoch 70/100\n",
      "313/313 [==============================] - 3s 9ms/step - loss: 0.2698 - accuracy: 0.8804 - val_loss: 0.4098 - val_accuracy: 0.8400\n",
      "Epoch 71/100\n",
      "313/313 [==============================] - 3s 9ms/step - loss: 0.2692 - accuracy: 0.8832 - val_loss: 0.4106 - val_accuracy: 0.8330\n",
      "Epoch 72/100\n",
      "313/313 [==============================] - 3s 9ms/step - loss: 0.2697 - accuracy: 0.8812 - val_loss: 0.3735 - val_accuracy: 0.8370\n",
      "Epoch 73/100\n",
      "313/313 [==============================] - 3s 9ms/step - loss: 0.2651 - accuracy: 0.8814 - val_loss: 0.4156 - val_accuracy: 0.8340\n",
      "Epoch 74/100\n",
      "313/313 [==============================] - 3s 9ms/step - loss: 0.2633 - accuracy: 0.8815 - val_loss: 0.4204 - val_accuracy: 0.8270\n",
      "Epoch 75/100\n",
      "313/313 [==============================] - 3s 9ms/step - loss: 0.2671 - accuracy: 0.8843 - val_loss: 0.3724 - val_accuracy: 0.8420\n",
      "Epoch 76/100\n",
      "313/313 [==============================] - 3s 9ms/step - loss: 0.2609 - accuracy: 0.8832 - val_loss: 0.4162 - val_accuracy: 0.8300\n",
      "Epoch 77/100\n",
      "313/313 [==============================] - 3s 9ms/step - loss: 0.2588 - accuracy: 0.8847 - val_loss: 0.3954 - val_accuracy: 0.8320\n",
      "Epoch 78/100\n",
      "313/313 [==============================] - 3s 9ms/step - loss: 0.2614 - accuracy: 0.8865 - val_loss: 0.3977 - val_accuracy: 0.8440\n",
      "Epoch 79/100\n",
      "313/313 [==============================] - 3s 9ms/step - loss: 0.2596 - accuracy: 0.8826 - val_loss: 0.4069 - val_accuracy: 0.8390\n",
      "Epoch 80/100\n",
      "313/313 [==============================] - 3s 9ms/step - loss: 0.2598 - accuracy: 0.8862 - val_loss: 0.3829 - val_accuracy: 0.8380\n",
      "Epoch 81/100\n",
      "313/313 [==============================] - 3s 9ms/step - loss: 0.2566 - accuracy: 0.8842 - val_loss: 0.4452 - val_accuracy: 0.8350\n",
      "Epoch 82/100\n",
      "313/313 [==============================] - 3s 9ms/step - loss: 0.2561 - accuracy: 0.8897 - val_loss: 0.4087 - val_accuracy: 0.8370\n",
      "Epoch 83/100\n",
      "313/313 [==============================] - 3s 9ms/step - loss: 0.2528 - accuracy: 0.8892 - val_loss: 0.3939 - val_accuracy: 0.8390\n",
      "Epoch 84/100\n",
      "313/313 [==============================] - 3s 9ms/step - loss: 0.2572 - accuracy: 0.8889 - val_loss: 0.4268 - val_accuracy: 0.8360\n",
      "Epoch 85/100\n",
      "313/313 [==============================] - 3s 9ms/step - loss: 0.2496 - accuracy: 0.8897 - val_loss: 0.3947 - val_accuracy: 0.8410\n",
      "Epoch 86/100\n",
      "313/313 [==============================] - 3s 9ms/step - loss: 0.2447 - accuracy: 0.8933 - val_loss: 0.4246 - val_accuracy: 0.8360\n",
      "Epoch 87/100\n",
      "313/313 [==============================] - 3s 9ms/step - loss: 0.2512 - accuracy: 0.8878 - val_loss: 0.4345 - val_accuracy: 0.8350\n",
      "Epoch 88/100\n",
      "313/313 [==============================] - 3s 9ms/step - loss: 0.2473 - accuracy: 0.8886 - val_loss: 0.4569 - val_accuracy: 0.8350\n",
      "Epoch 89/100\n",
      "313/313 [==============================] - 3s 10ms/step - loss: 0.2473 - accuracy: 0.8901 - val_loss: 0.4282 - val_accuracy: 0.8400\n",
      "Epoch 90/100\n",
      "313/313 [==============================] - 3s 9ms/step - loss: 0.2413 - accuracy: 0.8947 - val_loss: 0.4373 - val_accuracy: 0.8440\n",
      "Epoch 91/100\n",
      "313/313 [==============================] - 3s 9ms/step - loss: 0.2384 - accuracy: 0.8973 - val_loss: 0.4504 - val_accuracy: 0.8340\n",
      "Epoch 92/100\n",
      "313/313 [==============================] - 3s 9ms/step - loss: 0.2434 - accuracy: 0.8933 - val_loss: 0.4552 - val_accuracy: 0.8320\n",
      "Epoch 93/100\n",
      "313/313 [==============================] - 3s 9ms/step - loss: 0.2386 - accuracy: 0.8956 - val_loss: 0.4260 - val_accuracy: 0.8410\n",
      "Epoch 94/100\n",
      "313/313 [==============================] - 3s 9ms/step - loss: 0.2390 - accuracy: 0.8959 - val_loss: 0.4777 - val_accuracy: 0.8400\n",
      "Epoch 95/100\n",
      "313/313 [==============================] - 3s 9ms/step - loss: 0.2331 - accuracy: 0.8964 - val_loss: 0.4515 - val_accuracy: 0.8410\n",
      "Epoch 96/100\n",
      "313/313 [==============================] - 3s 9ms/step - loss: 0.2363 - accuracy: 0.8960 - val_loss: 0.4497 - val_accuracy: 0.8490\n",
      "Epoch 97/100\n",
      "313/313 [==============================] - 3s 9ms/step - loss: 0.2305 - accuracy: 0.8985 - val_loss: 0.4504 - val_accuracy: 0.8460\n",
      "Epoch 98/100\n",
      "313/313 [==============================] - 3s 9ms/step - loss: 0.2317 - accuracy: 0.8961 - val_loss: 0.4445 - val_accuracy: 0.8420\n",
      "Epoch 99/100\n",
      "313/313 [==============================] - 3s 10ms/step - loss: 0.2373 - accuracy: 0.8962 - val_loss: 0.4356 - val_accuracy: 0.8360\n",
      "Epoch 100/100\n",
      "313/313 [==============================] - 3s 9ms/step - loss: 0.2334 - accuracy: 0.8998 - val_loss: 0.4375 - val_accuracy: 0.8430\n"
     ]
    }
   ],
   "source": [
    "history = model.fit([input_train , query_train] , answer_train , batch_size=32 , epochs=100 , validation_data=([input_test , query_test] , answer_test))"
   ]
  },
  {
   "cell_type": "code",
   "execution_count": 41,
   "metadata": {},
   "outputs": [
    {
     "name": "stdout",
     "output_type": "stream",
     "text": [
      "dict_keys(['loss', 'accuracy', 'val_loss', 'val_accuracy'])\n"
     ]
    },
    {
     "data": {
      "image/png": "[encoded data removed]",
      "text/plain": [
       "<Figure size 432x288 with 1 Axes>"
      ]
     },
     "metadata": {
      "needs_background": "light"
     },
     "output_type": "display_data"
    }
   ],
   "source": [
    "import matplotlib.pyplot as plt\n",
    "print(history.history.keys())\n",
    "\n",
    "#summarize for history accuracy\n",
    "\n",
    "plt.plot(history.history['accuracy'])\n",
    "plt.plot(history.history['val_accuracy'])\n",
    "plt.title('Model Accuracy')\n",
    "plt.xlabel('Epoch')\n",
    "plt.ylabel('Accuracy')\n",
    "plt.legend(['train' , 'test'], loc='upper left')\n",
    "plt.show()"
   ]
  },
  {
   "cell_type": "code",
   "execution_count": 42,
   "metadata": {},
   "outputs": [],
   "source": [
    "model.save('Mychatbot_first.h5')"
   ]
  },
  {
   "cell_type": "markdown",
   "metadata": {},
   "source": [
    "### Predicting using the model on test_data without providing answers"
   ]
  },
  {
   "cell_type": "code",
   "execution_count": 43,
   "metadata": {},
   "outputs": [],
   "source": [
    "pred_res = model.predict(([input_test , query_test]))"
   ]
  },
  {
   "cell_type": "code",
   "execution_count": 44,
   "metadata": {},
   "outputs": [
    {
     "name": "stdout",
     "output_type": "stream",
     "text": [
      "Mary got the milk there . John moved to the bedroom .\n",
      "Is John in the kitchen ?\n",
      "no\n"
     ]
    }
   ],
   "source": [
    "print(' '.join(test_data[0][0]))\n",
    "print(' '.join(test_data[0][1]))\n",
    "print(''.join(test_data[0][2]))"
   ]
  },
  {
   "cell_type": "code",
   "execution_count": 45,
   "metadata": {},
   "outputs": [
    {
     "data": {
      "text/plain": [
       "array([1.16069165e-17, 8.48717004e-18, 1.06304852e-17, 8.70791477e-18,\n",
       "       9.99995947e-01, 7.56331683e-18, 6.77854991e-18, 4.03156309e-06,\n",
       "       1.02773154e-17, 6.32194373e-18, 8.62210719e-18, 8.98344284e-18,\n",
       "       9.44647704e-18, 7.61929380e-18, 9.58345815e-18, 9.37961603e-18,\n",
       "       9.31664029e-18, 6.60416907e-18, 8.83749013e-18, 7.96575343e-18,\n",
       "       1.10406385e-17, 8.10775718e-18, 1.05982135e-17, 1.05254498e-17,\n",
       "       1.08366790e-17, 8.30455586e-18, 7.66015156e-18, 9.78874205e-18,\n",
       "       1.01236162e-17, 9.49666292e-18, 8.46343989e-18, 7.69092516e-18,\n",
       "       8.29876063e-18, 9.11207604e-18, 1.03243101e-17, 7.60962075e-18,\n",
       "       7.70075951e-18, 7.91417211e-18], dtype=float32)"
      ]
     },
     "execution_count": 45,
     "metadata": {},
     "output_type": "execute_result"
    }
   ],
   "source": [
    "pred_res[0]"
   ]
  },
  {
   "cell_type": "code",
   "execution_count": 46,
   "metadata": {},
   "outputs": [],
   "source": [
    "val_max = np.argmax(pred_res[0])"
   ]
  },
  {
   "cell_type": "code",
   "execution_count": 47,
   "metadata": {
    "scrolled": true
   },
   "outputs": [
    {
     "name": "stdout",
     "output_type": "stream",
     "text": [
      "answer predicted :  no\n",
      "answer probability :  0.99999595\n"
     ]
    }
   ],
   "source": [
    "for key,val in tokenizer.word_index.items():\n",
    "    if val == val_max:\n",
    "        k=key\n",
    "print(\"answer predicted : \" , k)\n",
    "print(\"answer probability : \" , pred_res[0][val_max])"
   ]
  },
  {
   "cell_type": "markdown",
   "metadata": {},
   "source": [
    "## Writing our own stories\n",
    "#### Keeping in mind of our vocab we have to see that we use words that are in our vocab"
   ]
  },
  {
   "cell_type": "code",
   "execution_count": 77,
   "metadata": {},
   "outputs": [],
   "source": [
    "mystory = \"John left the kitchen . Sandra dropped the football in the garden .\""
   ]
  },
  {
   "cell_type": "code",
   "execution_count": 78,
   "metadata": {},
   "outputs": [
    {
     "data": {
      "text/plain": [
       "['John',\n",
       " 'left',\n",
       " 'the',\n",
       " 'kitchen',\n",
       " '.',\n",
       " 'Sandra',\n",
       " 'dropped',\n",
       " 'the',\n",
       " 'football',\n",
       " 'in',\n",
       " 'the',\n",
       " 'garden',\n",
       " '.']"
      ]
     },
     "execution_count": 78,
     "metadata": {},
     "output_type": "execute_result"
    }
   ],
   "source": [
    "mystory.split(' ')"
   ]
  },
  {
   "cell_type": "code",
   "execution_count": 79,
   "metadata": {},
   "outputs": [],
   "source": [
    "my_ques = \"Is the football in the kitchen ?\""
   ]
  },
  {
   "cell_type": "code",
   "execution_count": 80,
   "metadata": {},
   "outputs": [
    {
     "data": {
      "text/plain": [
       "['Is', 'the', 'football', 'in', 'the', 'kitchen', '?']"
      ]
     },
     "execution_count": 80,
     "metadata": {},
     "output_type": "execute_result"
    }
   ],
   "source": [
    "my_ques.split(' ')"
   ]
  },
  {
   "cell_type": "code",
   "execution_count": 81,
   "metadata": {},
   "outputs": [],
   "source": [
    "my_data = [(mystory.split() , my_ques.split() , 'no')]"
   ]
  },
  {
   "cell_type": "code",
   "execution_count": 82,
   "metadata": {},
   "outputs": [],
   "source": [
    "mystory , my_ques , my_ans = vectorize_stories(my_data)"
   ]
  },
  {
   "cell_type": "code",
   "execution_count": 83,
   "metadata": {},
   "outputs": [],
   "source": [
    "pred_my_res = model.predict([mystory , my_ques])"
   ]
  },
  {
   "cell_type": "code",
   "execution_count": 85,
   "metadata": {},
   "outputs": [
    {
     "name": "stdout",
     "output_type": "stream",
     "text": [
      "answer predicted :  no\n",
      "answer probability :  99.0454375743866 %\n"
     ]
    }
   ],
   "source": [
    "val_max = np.argmax(pred_my_res[0])\n",
    "for key,val in tokenizer.word_index.items():\n",
    "    if val == val_max:\n",
    "        k=key\n",
    "print(\"answer predicted : \" , k)\n",
    "print(\"answer probability : \" , pred_my_res[0][val_max]*100 , \"%\")"
   ]
  },
  {
   "cell_type": "markdown",
   "metadata": {},
   "source": [
    "### That is the end."
   ]
  }
 ],
 "metadata": {
  "kernelspec": {
   "display_name": "Python 3",
   "language": "python",
   "name": "python3"
  },
  "language_info": {
   "codemirror_mode": {
    "name": "ipython",
    "version": 3
   },
   "file_extension": ".py",
   "mimetype": "text/x-python",
   "name": "python",
   "nbconvert_exporter": "python",
   "pygments_lexer": "ipython3",
   "version": "3.8.2"
  }
 },
 "nbformat": 4,
 "nbformat_minor": 4
}
